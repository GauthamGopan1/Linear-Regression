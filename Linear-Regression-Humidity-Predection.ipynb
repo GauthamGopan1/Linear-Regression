{
 "cells": [
  {
   "cell_type": "markdown",
   "metadata": {},
   "source": [
    "# Gautham Gopan  [RA1911026020091] "
   ]
  },
  {
   "cell_type": "markdown",
   "metadata": {},
   "source": [
    "# Humidiy prediction"
   ]
  },
  {
   "cell_type": "code",
   "execution_count": 1,
   "metadata": {},
   "outputs": [],
   "source": [
    "import warnings\n",
    "warnings.simplefilter(\"ignore\")\n",
    "import numpy as np\n",
    "import pandas as pd\n",
    "import matplotlib.pyplot as plt\n",
    "%matplotlib inline"
   ]
  },
  {
   "cell_type": "code",
   "execution_count": 2,
   "metadata": {},
   "outputs": [],
   "source": [
    "dataset1 = pd.read_csv(\"D:\\weatherHistory.csv\")"
   ]
  },
  {
   "cell_type": "code",
   "execution_count": 4,
   "metadata": {},
   "outputs": [
    {
     "name": "stdout",
     "output_type": "stream",
     "text": [
      "                      Formatted Date        Summary Precip Type  \\\n",
      "0      2006-04-01 00:00:00.000 +0200  Partly Cloudy        rain   \n",
      "1      2006-04-01 01:00:00.000 +0200  Partly Cloudy        rain   \n",
      "2      2006-04-01 02:00:00.000 +0200  Mostly Cloudy        rain   \n",
      "3      2006-04-01 03:00:00.000 +0200  Partly Cloudy        rain   \n",
      "4      2006-04-01 04:00:00.000 +0200  Mostly Cloudy        rain   \n",
      "...                              ...            ...         ...   \n",
      "96448  2016-09-09 19:00:00.000 +0200  Partly Cloudy        rain   \n",
      "96449  2016-09-09 20:00:00.000 +0200  Partly Cloudy        rain   \n",
      "96450  2016-09-09 21:00:00.000 +0200  Partly Cloudy        rain   \n",
      "96451  2016-09-09 22:00:00.000 +0200  Partly Cloudy        rain   \n",
      "96452  2016-09-09 23:00:00.000 +0200  Partly Cloudy        rain   \n",
      "\n",
      "       Temperature (C)  Apparent Temperature (C)  Humidity  Wind Speed (km/h)  \\\n",
      "0             9.472222                  7.388889      0.89            14.1197   \n",
      "1             9.355556                  7.227778      0.86            14.2646   \n",
      "2             9.377778                  9.377778      0.89             3.9284   \n",
      "3             8.288889                  5.944444      0.83            14.1036   \n",
      "4             8.755556                  6.977778      0.83            11.0446   \n",
      "...                ...                       ...       ...                ...   \n",
      "96448        26.016667                 26.016667      0.43            10.9963   \n",
      "96449        24.583333                 24.583333      0.48            10.0947   \n",
      "96450        22.038889                 22.038889      0.56             8.9838   \n",
      "96451        21.522222                 21.522222      0.60            10.5294   \n",
      "96452        20.438889                 20.438889      0.61             5.8765   \n",
      "\n",
      "       Wind Bearing (degrees)  Visibility (km)  Loud Cover  \\\n",
      "0                       251.0          15.8263         0.0   \n",
      "1                       259.0          15.8263         0.0   \n",
      "2                       204.0          14.9569         0.0   \n",
      "3                       269.0          15.8263         0.0   \n",
      "4                       259.0          15.8263         0.0   \n",
      "...                       ...              ...         ...   \n",
      "96448                    31.0          16.1000         0.0   \n",
      "96449                    20.0          15.5526         0.0   \n",
      "96450                    30.0          16.1000         0.0   \n",
      "96451                    20.0          16.1000         0.0   \n",
      "96452                    39.0          15.5204         0.0   \n",
      "\n",
      "       Pressure (millibars)                           Daily Summary  \n",
      "0                   1015.13       Partly cloudy throughout the day.  \n",
      "1                   1015.63       Partly cloudy throughout the day.  \n",
      "2                   1015.94       Partly cloudy throughout the day.  \n",
      "3                   1016.41       Partly cloudy throughout the day.  \n",
      "4                   1016.51       Partly cloudy throughout the day.  \n",
      "...                     ...                                     ...  \n",
      "96448               1014.36  Partly cloudy starting in the morning.  \n",
      "96449               1015.16  Partly cloudy starting in the morning.  \n",
      "96450               1015.66  Partly cloudy starting in the morning.  \n",
      "96451               1015.95  Partly cloudy starting in the morning.  \n",
      "96452               1016.16  Partly cloudy starting in the morning.  \n",
      "\n",
      "[96453 rows x 12 columns]\n"
     ]
    }
   ],
   "source": [
    "print(dataset1)"
   ]
  },
  {
   "cell_type": "code",
   "execution_count": 5,
   "metadata": {},
   "outputs": [],
   "source": [
    "dataset1 = dataset1.drop(columns=[\"Formatted Date\",\"Summary\",\"Precip Type\",\"Temperature (C)\",\"Wind Speed (km/h)\"])"
   ]
  },
  {
   "cell_type": "code",
   "execution_count": 6,
   "metadata": {},
   "outputs": [
    {
     "name": "stdout",
     "output_type": "stream",
     "text": [
      "       Apparent Temperature (C)  Humidity  Wind Bearing (degrees)  \\\n",
      "0                      7.388889      0.89                   251.0   \n",
      "1                      7.227778      0.86                   259.0   \n",
      "2                      9.377778      0.89                   204.0   \n",
      "3                      5.944444      0.83                   269.0   \n",
      "4                      6.977778      0.83                   259.0   \n",
      "...                         ...       ...                     ...   \n",
      "96448                 26.016667      0.43                    31.0   \n",
      "96449                 24.583333      0.48                    20.0   \n",
      "96450                 22.038889      0.56                    30.0   \n",
      "96451                 21.522222      0.60                    20.0   \n",
      "96452                 20.438889      0.61                    39.0   \n",
      "\n",
      "       Visibility (km)  Loud Cover  Pressure (millibars)  \\\n",
      "0              15.8263         0.0               1015.13   \n",
      "1              15.8263         0.0               1015.63   \n",
      "2              14.9569         0.0               1015.94   \n",
      "3              15.8263         0.0               1016.41   \n",
      "4              15.8263         0.0               1016.51   \n",
      "...                ...         ...                   ...   \n",
      "96448          16.1000         0.0               1014.36   \n",
      "96449          15.5526         0.0               1015.16   \n",
      "96450          16.1000         0.0               1015.66   \n",
      "96451          16.1000         0.0               1015.95   \n",
      "96452          15.5204         0.0               1016.16   \n",
      "\n",
      "                                Daily Summary  \n",
      "0           Partly cloudy throughout the day.  \n",
      "1           Partly cloudy throughout the day.  \n",
      "2           Partly cloudy throughout the day.  \n",
      "3           Partly cloudy throughout the day.  \n",
      "4           Partly cloudy throughout the day.  \n",
      "...                                       ...  \n",
      "96448  Partly cloudy starting in the morning.  \n",
      "96449  Partly cloudy starting in the morning.  \n",
      "96450  Partly cloudy starting in the morning.  \n",
      "96451  Partly cloudy starting in the morning.  \n",
      "96452  Partly cloudy starting in the morning.  \n",
      "\n",
      "[96453 rows x 7 columns]\n"
     ]
    }
   ],
   "source": [
    "print(dataset1)"
   ]
  },
  {
   "cell_type": "code",
   "execution_count": 7,
   "metadata": {},
   "outputs": [],
   "source": [
    "dataset1 = dataset1.drop(columns=[\"Wind Bearing (degrees)\",\"Visibility (km)\",\"Loud Cover\",\"Pressure (millibars)\",\"Daily Summary\"])"
   ]
  },
  {
   "cell_type": "code",
   "execution_count": 8,
   "metadata": {},
   "outputs": [
    {
     "name": "stdout",
     "output_type": "stream",
     "text": [
      "       Apparent Temperature (C)  Humidity\n",
      "0                      7.388889      0.89\n",
      "1                      7.227778      0.86\n",
      "2                      9.377778      0.89\n",
      "3                      5.944444      0.83\n",
      "4                      6.977778      0.83\n",
      "...                         ...       ...\n",
      "96448                 26.016667      0.43\n",
      "96449                 24.583333      0.48\n",
      "96450                 22.038889      0.56\n",
      "96451                 21.522222      0.60\n",
      "96452                 20.438889      0.61\n",
      "\n",
      "[96453 rows x 2 columns]\n"
     ]
    }
   ],
   "source": [
    "print(dataset1)"
   ]
  },
  {
   "cell_type": "code",
   "execution_count": 9,
   "metadata": {},
   "outputs": [],
   "source": [
    "dataset1 = dataset1.dropna()"
   ]
  },
  {
   "cell_type": "code",
   "execution_count": 10,
   "metadata": {},
   "outputs": [
    {
     "data": {
      "text/plain": [
       "(96453, 1)"
      ]
     },
     "execution_count": 10,
     "metadata": {},
     "output_type": "execute_result"
    }
   ],
   "source": [
    "x = dataset1.iloc[:,0]\n",
    "x = dataset1.iloc[:,0].values.reshape(-1,1)\n",
    "x.shape\n",
    "y = dataset1.iloc[:,-1].values.reshape(-1,1)\n",
    "y.shape"
   ]
  },
  {
   "cell_type": "code",
   "execution_count": 11,
   "metadata": {},
   "outputs": [
    {
     "data": {
      "image/png": "[encoded data removed]",
      "text/plain": [
       "<Figure size 432x288 with 1 Axes>"
      ]
     },
     "metadata": {
      "needs_background": "light"
     },
     "output_type": "display_data"
    }
   ],
   "source": [
    "plt.scatter(x,y)\n",
    "plt.show()"
   ]
  },
  {
   "cell_type": "code",
   "execution_count": 12,
   "metadata": {},
   "outputs": [],
   "source": [
    "from sklearn.model_selection import train_test_split\n",
    "x_train,x_test,y_train,y_test = train_test_split(x,y, test_size = 0.2, random_state = 0)"
   ]
  },
  {
   "cell_type": "code",
   "execution_count": 13,
   "metadata": {},
   "outputs": [],
   "source": [
    "from sklearn.linear_model import LinearRegression\n",
    "lm = LinearRegression()\n",
    "lm.fit(x_train,y_train)\n",
    "y_pred = lm.predict(x_test)"
   ]
  },
  {
   "cell_type": "code",
   "execution_count": 14,
   "metadata": {},
   "outputs": [
    {
     "data": {
      "text/html": [
       "<div>\n",
       "<style scoped>\n",
       "    .dataframe tbody tr th:only-of-type {\n",
       "        vertical-align: middle;\n",
       "    }\n",
       "\n",
       "    .dataframe tbody tr th {\n",
       "        vertical-align: top;\n",
       "    }\n",
       "\n",
       "    .dataframe thead th {\n",
       "        text-align: right;\n",
       "    }\n",
       "</style>\n",
       "<table border=\"1\" class=\"dataframe\">\n",
       "  <thead>\n",
       "    <tr style=\"text-align: right;\">\n",
       "      <th></th>\n",
       "      <th>Apparent Temperature (C)</th>\n",
       "      <th>Humidity_Actual</th>\n",
       "      <th>Humidity_Predicted</th>\n",
       "    </tr>\n",
       "  </thead>\n",
       "  <tbody>\n",
       "    <tr>\n",
       "      <th>0</th>\n",
       "      <td>14.422222</td>\n",
       "      <td>0.93</td>\n",
       "      <td>0.695157</td>\n",
       "    </tr>\n",
       "    <tr>\n",
       "      <th>1</th>\n",
       "      <td>12.155556</td>\n",
       "      <td>0.72</td>\n",
       "      <td>0.720148</td>\n",
       "    </tr>\n",
       "    <tr>\n",
       "      <th>2</th>\n",
       "      <td>23.961111</td>\n",
       "      <td>0.61</td>\n",
       "      <td>0.589986</td>\n",
       "    </tr>\n",
       "    <tr>\n",
       "      <th>3</th>\n",
       "      <td>15.000000</td>\n",
       "      <td>0.87</td>\n",
       "      <td>0.688787</td>\n",
       "    </tr>\n",
       "    <tr>\n",
       "      <th>4</th>\n",
       "      <td>12.800000</td>\n",
       "      <td>0.77</td>\n",
       "      <td>0.713042</td>\n",
       "    </tr>\n",
       "    <tr>\n",
       "      <th>...</th>\n",
       "      <td>...</td>\n",
       "      <td>...</td>\n",
       "      <td>...</td>\n",
       "    </tr>\n",
       "    <tr>\n",
       "      <th>19286</th>\n",
       "      <td>28.255556</td>\n",
       "      <td>0.37</td>\n",
       "      <td>0.542638</td>\n",
       "    </tr>\n",
       "    <tr>\n",
       "      <th>19287</th>\n",
       "      <td>17.216667</td>\n",
       "      <td>0.93</td>\n",
       "      <td>0.664347</td>\n",
       "    </tr>\n",
       "    <tr>\n",
       "      <th>19288</th>\n",
       "      <td>-1.000000</td>\n",
       "      <td>0.92</td>\n",
       "      <td>0.865193</td>\n",
       "    </tr>\n",
       "    <tr>\n",
       "      <th>19289</th>\n",
       "      <td>7.327778</td>\n",
       "      <td>0.93</td>\n",
       "      <td>0.773376</td>\n",
       "    </tr>\n",
       "    <tr>\n",
       "      <th>19290</th>\n",
       "      <td>16.061111</td>\n",
       "      <td>0.72</td>\n",
       "      <td>0.677087</td>\n",
       "    </tr>\n",
       "  </tbody>\n",
       "</table>\n",
       "<p>19291 rows × 3 columns</p>\n",
       "</div>"
      ],
      "text/plain": [
       "        Apparent Temperature (C)  Humidity_Actual  Humidity_Predicted\n",
       "0                      14.422222             0.93            0.695157\n",
       "1                      12.155556             0.72            0.720148\n",
       "2                      23.961111             0.61            0.589986\n",
       "3                      15.000000             0.87            0.688787\n",
       "4                      12.800000             0.77            0.713042\n",
       "...                          ...              ...                 ...\n",
       "19286                  28.255556             0.37            0.542638\n",
       "19287                  17.216667             0.93            0.664347\n",
       "19288                  -1.000000             0.92            0.865193\n",
       "19289                   7.327778             0.93            0.773376\n",
       "19290                  16.061111             0.72            0.677087\n",
       "\n",
       "[19291 rows x 3 columns]"
      ]
     },
     "execution_count": 14,
     "metadata": {},
     "output_type": "execute_result"
    }
   ],
   "source": [
    "check = pd.DataFrame(x_test, columns = [' Apparent Temperature (C)'])\n",
    "check['Humidity_Actual'] = y_test\n",
    "check['Humidity_Predicted'] = y_pred\n",
    "check"
   ]
  },
  {
   "cell_type": "code",
   "execution_count": 15,
   "metadata": {},
   "outputs": [
    {
     "data": {
      "text/plain": [
       "[<matplotlib.lines.Line2D at 0x1f0402f9760>]"
      ]
     },
     "execution_count": 15,
     "metadata": {},
     "output_type": "execute_result"
    },
    {
     "data": {
      "image/png": "[encoded data removed]",
      "text/plain": [
       "<Figure size 432x288 with 1 Axes>"
      ]
     },
     "metadata": {
      "needs_background": "light"
     },
     "output_type": "display_data"
    }
   ],
   "source": [
    "plt.scatter(x,y, color = 'blue')\n",
    "plt.plot(x_test,y_pred,color = 'red')"
   ]
  },
  {
   "cell_type": "code",
   "execution_count": null,
   "metadata": {},
   "outputs": [],
   "source": []
  },
  {
   "cell_type": "code",
   "execution_count": null,
   "metadata": {},
   "outputs": [],
   "source": []
  }
 ],
 "metadata": {
  "kernelspec": {
   "display_name": "Python 3",
   "language": "python",
   "name": "python3"
  },
  "language_info": {
   "codemirror_mode": {
    "name": "ipython",
    "version": 3
   },
   "file_extension": ".py",
   "mimetype": "text/x-python",
   "name": "python",
   "nbconvert_exporter": "python",
   "pygments_lexer": "ipython3",
   "version": "3.8.5"
  }
 },
 "nbformat": 4,
 "nbformat_minor": 4
}
